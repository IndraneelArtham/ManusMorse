{
 "cells": [
  {
   "cell_type": "code",
   "execution_count": 1,
   "metadata": {},
   "outputs": [],
   "source": [
    "import cv2\n",
    "import matplotlib.pyplot as plt\n",
    "import numpy as np\n",
    "import time\n",
    "from datetime import datetime"
   ]
  },
  {
   "cell_type": "code",
   "execution_count": 2,
   "metadata": {},
   "outputs": [],
   "source": [
    "clicked = False\n",
    "addspace = False\n",
    "start = 0\n",
    "end = 0\n",
    "ustart = 0\n",
    "record = \"\"\n",
    "mtot = {\n",
    "        \"\" : \"\",\n",
    "        \".-\" : \"A\",\n",
    "        \"-...\" : \"B\",\n",
    "        \"-.-.\" : \"C\",\n",
    "        \"-..\" : \"D\",\n",
    "        \".\" : \"E\",\n",
    "        \"..-.\" : \"F\",\n",
    "        \"--.\" : \"G\",\n",
    "        \"....\" : \"H\",\n",
    "        \"..\" : \"I\",\n",
    "        \".---\" : \"J\",\n",
    "        \"-.-\" : \"K\",\n",
    "        \".-..\" : \"L\",\n",
    "        \"--\" : \"M\",\n",
    "        \"-.\" : \"N\",\n",
    "        \"---\" : \"O\",\n",
    "        \".--.\" : \"P\",\n",
    "        \"--.-\" : \"Q\",\n",
    "        \".-.\" : \"R\",\n",
    "        \"...\" : \"S\",\n",
    "        \"-\" : \"T\",\n",
    "        \"..-\" : \"U\",\n",
    "        \"...-\" : \"V\",\n",
    "        \".--\" : \"W\",\n",
    "        \"-..-\" : \"X\",\n",
    "        \"-.--\" : \"Y\",\n",
    "        \"--..\" : \"Z\",\n",
    "    }"
   ]
  },
  {
   "cell_type": "code",
   "execution_count": 3,
   "metadata": {},
   "outputs": [],
   "source": [
    "img = np.ones((600, 1600, 3), dtype=np.uint8)*255"
   ]
  },
  {
   "cell_type": "code",
   "execution_count": 4,
   "metadata": {},
   "outputs": [],
   "source": [
    "def add(element):\n",
    "    global record\n",
    "    record += element"
   ]
  },
  {
   "cell_type": "code",
   "execution_count": 5,
   "metadata": {},
   "outputs": [],
   "source": [
    "def identify(time):\n",
    "    global record\n",
    "    if time > 0.35 and time < 1.5:\n",
    "        record += \"-\"\n",
    "    else:\n",
    "        record += \".\""
   ]
  },
  {
   "cell_type": "code",
   "execution_count": 6,
   "metadata": {},
   "outputs": [],
   "source": [
    "def morse(event, x, y, flags, param):\n",
    "    global clicked, start, end, ustart\n",
    "    \n",
    "    if event == cv2.EVENT_LBUTTONDOWN:\n",
    "        print(\"down\")\n",
    "        clicked = False\n",
    "        start = time.time()\n",
    "        \n",
    "        \n",
    "    elif event == cv2.EVENT_LBUTTONUP:\n",
    "        clicked = True\n",
    "        print(\"up\")\n",
    "        end = time.time()\n",
    "        identify(end - start)\n",
    "        ustart = time.time()"
   ]
  },
  {
   "cell_type": "code",
   "execution_count": 7,
   "metadata": {},
   "outputs": [],
   "source": [
    "def morsetotext(letters):\n",
    "    text = \"\"\n",
    "    for letter in letters:\n",
    "        text += mtot[letter]\n",
    "    return text\n",
    "    "
   ]
  },
  {
   "cell_type": "code",
   "execution_count": 8,
   "metadata": {},
   "outputs": [
    {
     "name": "stdout",
     "output_type": "stream",
     "text": [
      "down\n",
      "up\n",
      "down\n",
      "up\n",
      "down\n",
      "up\n",
      "down\n",
      "up\n",
      "Next Letter\n",
      "down\n",
      "up\n",
      "down\n",
      "up\n",
      "down\n",
      "up\n",
      "down\n",
      "up\n",
      "down\n",
      "up\n",
      "down\n",
      "up\n",
      "Next Letter\n",
      "down\n",
      "up\n",
      "down\n",
      "up\n",
      "Next Letter\n",
      "down\n",
      "up\n",
      "down\n",
      "up\n",
      "down\n",
      "up\n",
      "down\n",
      "up\n",
      "Next Letter\n",
      "down\n",
      "up\n",
      "down\n",
      "up\n",
      "down\n",
      "up\n",
      "down\n",
      "up\n",
      "Next Letter\n",
      "down\n",
      "up\n",
      "down\n",
      "up\n",
      "down\n",
      "up\n",
      "Next Letter\n",
      "down\n",
      "up\n",
      "Next Letter\n",
      "down\n",
      "up\n",
      "Next Letter\n",
      "down\n",
      "up\n",
      "down\n",
      "up\n",
      "Next Letter\n"
     ]
    }
   ],
   "source": [
    "cv2.namedWindow(winname='my_drawing')\n",
    "cv2.setMouseCallback('my_drawing',morse)\n",
    "while True:\n",
    "    if clicked and time.time() - ustart > 1.5:\n",
    "        record += \"    \"\n",
    "        ustart = time.time()\n",
    "        print(\"Next Letter\")\n",
    "        clicked = False\n",
    "        addspace= True\n",
    "        \n",
    "    if addspace and time.time() - ustart > 3.5:\n",
    "        record.rstrip(\"    \")\n",
    "        record += (\"        \")\n",
    "        ustart = time.time()\n",
    "        print(\"Added space\")\n",
    "        clicked = False\n",
    "        addspace = False\n",
    "        \n",
    "    cv2.putText(img,text=record,org=(10,500), fontFace=cv2.FONT_HERSHEY_SIMPLEX,fontScale= 1,color=(255,0,0),thickness=2,lineType=cv2.LINE_AA)\n",
    "    cv2.imshow('my_drawing',img)\n",
    "      \n",
    "    k = cv2.waitKey(1)\n",
    "    if k == 27:\n",
    "        break\n",
    "        \n",
    "    # Clear all colors and start over if 'c' is pressed\n",
    "    elif k == ord('c'):\n",
    "        record = \"\"\n",
    "        clicked = False\n",
    "        img = np.ones((600, 1600, 3), dtype=np.uint8)*255\n",
    "        \n",
    "cv2.destroyAllWindows()"
   ]
  },
  {
   "cell_type": "code",
   "execution_count": 9,
   "metadata": {},
   "outputs": [
    {
     "name": "stdout",
     "output_type": "stream",
     "text": [
      "ABCDETA \n"
     ]
    }
   ],
   "source": [
    "words = record.split(\"        \")\n",
    "sentence = \"\"\n",
    "for word in words:\n",
    "    letters = word.split(\"    \")\n",
    "    sentence += morsetotext(letters)\n",
    "    sentence += \" \"\n",
    "print(sentence)"
   ]
  },
  {
   "cell_type": "code",
   "execution_count": null,
   "metadata": {},
   "outputs": [],
   "source": []
  }
 ],
 "metadata": {
  "kernelspec": {
   "display_name": "Python 3 (ipykernel)",
   "language": "python",
   "name": "python3"
  },
  "language_info": {
   "codemirror_mode": {
    "name": "ipython",
    "version": 3
   },
   "file_extension": ".py",
   "mimetype": "text/x-python",
   "name": "python",
   "nbconvert_exporter": "python",
   "pygments_lexer": "ipython3",
   "version": "3.6.6"
  }
 },
 "nbformat": 4,
 "nbformat_minor": 4
}
