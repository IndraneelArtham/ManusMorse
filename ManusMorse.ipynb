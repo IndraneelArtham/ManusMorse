{
 "cells": [
  {
   "cell_type": "code",
   "execution_count": 71,
   "metadata": {},
   "outputs": [],
   "source": [
    "import os\n",
    "import cv2\n",
    "import mediapipe as mp\n",
    "import time\n",
    "from collections import namedtuple\n",
    "from gtts import gTTS\n",
    "import pygame"
   ]
  },
  {
   "cell_type": "code",
   "execution_count": 72,
   "metadata": {},
   "outputs": [],
   "source": [
    "Point = namedtuple('Point', 'x y')\n",
    "language = 'en'"
   ]
  },
  {
   "cell_type": "code",
   "execution_count": 73,
   "metadata": {},
   "outputs": [],
   "source": [
    "class Line:\n",
    "    def __init__(self, P, Q):\n",
    "        self.a = P.y - Q.y\n",
    "        self.b = Q.x - P.x\n",
    "        self.c = P.x*(Q.y - P.y) - P.y*(Q.x - P.x)\n",
    "\n",
    "    def substitute(self, R):\n",
    "        return self.a*R.x + self.b*R.y + self.c"
   ]
  },
  {
   "cell_type": "code",
   "execution_count": 74,
   "metadata": {},
   "outputs": [],
   "source": [
    "morse_to_text = {\n",
    "        \"\" : \"\",\n",
    "        \".-\" : \"A\",\n",
    "        \"-...\" : \"B\",\n",
    "        \"-.-.\" : \"C\",\n",
    "        \"-..\" : \"D\",\n",
    "        \".\" : \"E\",\n",
    "        \"..-.\" : \"F\",\n",
    "        \"--.\" : \"G\",\n",
    "        \"....\" : \"H\",\n",
    "        \"..\" : \"I\",\n",
    "        \".---\" : \"J\",\n",
    "        \"-.-\" : \"K\",\n",
    "        \".-..\" : \"L\",\n",
    "        \"--\" : \"M\",\n",
    "        \"-.\" : \"N\",\n",
    "        \"---\" : \"O\",\n",
    "        \".--.\" : \"P\",\n",
    "        \"--.-\" : \"Q\",\n",
    "        \".-.\" : \"R\",\n",
    "        \"...\" : \"S\",\n",
    "        \"-\" : \"T\",\n",
    "        \"..-\" : \"U\",\n",
    "        \"...-\" : \"V\",\n",
    "        \".--\" : \"W\",\n",
    "        \"-..-\" : \"X\",\n",
    "        \"-.--\" : \"Y\",\n",
    "        \"--..\" : \"Z\",\n",
    "    }"
   ]
  },
  {
   "cell_type": "code",
   "execution_count": 75,
   "metadata": {},
   "outputs": [],
   "source": [
    "opened_hand = False\n",
    "open_time = 0\n",
    "close_time = 0\n",
    "check_if_open = True\n",
    "check_if_close = False\n",
    "is_open = True\n",
    "status = \"CLOSED\"\n",
    "idle_time_start = 0\n",
    "idle_time_end = 0\n",
    "\n",
    "mp_hands = mp.solutions.hands\n",
    "hands = mp_hands.Hands()\n",
    "mp_draw = mp.solutions.drawing_utils\n",
    "\n",
    "_fps_previous_time = 0\n",
    "_fps_current_time = 0"
   ]
  },
  {
   "cell_type": "code",
   "execution_count": 76,
   "metadata": {},
   "outputs": [
    {
     "name": "stdout",
     "output_type": "stream",
     "text": [
      ".... ..\n",
      "HI\n"
     ]
    }
   ],
   "source": [
    "morse = \"\"\n",
    "\n",
    "cap = cv2.VideoCapture(cv2.CAP_DSHOW)\n",
    "\n",
    "while True:\n",
    "    ret, frame = cap.read()\n",
    "    h, w, c = frame.shape\n",
    "    rgb_frame = cv2.cvtColor(frame, cv2.COLOR_BGR2RGB)\n",
    "    results = hands.process(rgb_frame)\n",
    "    \n",
    "    if results.multi_hand_landmarks:\n",
    "        for handLms in results.multi_hand_landmarks:\n",
    "\n",
    "            A = Point(int(handLms.landmark[0].x*w), int(handLms.landmark[0].y*h))\n",
    "            B = Point(int(handLms.landmark[5].x*w), int(handLms.landmark[5].y*h))\n",
    "            C = Point(int(handLms.landmark[17].x*w), int(handLms.landmark[17].y*h))\n",
    "            P = Point(int(handLms.landmark[12].x*w), int(handLms.landmark[12].y*h))\n",
    "\n",
    "            l1 = Line(A, B)\n",
    "            l2 = Line(B, C)\n",
    "            l3 = Line(C, A)\n",
    "\n",
    "            if l1.substitute(P) > 0 and l2.substitute(P) > 0 and l3.substitute(P) > 0:\n",
    "                status = \"CLOSED\"\n",
    "            else:\n",
    "                status = \"OPEN\"\n",
    "                \n",
    "            mp_draw.draw_landmarks(frame, handLms, mp_hands.HAND_CONNECTIONS)\n",
    "            cv2.putText(frame, status, (10, 300), cv2.FONT_HERSHEY_COMPLEX, 1, (0, 0, 255), 3, 1)\n",
    "\n",
    "    _fps_current_time = time.time()\n",
    "    fps = 1/(_fps_current_time - _fps_previous_time)\n",
    "    _fps_previous_time = _fps_current_time\n",
    "    cv2.putText(frame, str(int(fps)), (10, 30), cv2.FONT_HERSHEY_PLAIN, 1.7, (0, 0, 255), 3, 1)\n",
    "\n",
    "    if status == \"OPEN\" and check_if_open:\n",
    "        opened_hand = True\n",
    "    elif status == \"CLOSED\" and check_if_close:\n",
    "        is_open = False\n",
    "        opened_hand = False\n",
    "        check_if_close = False\n",
    "\n",
    "    if opened_hand:\n",
    "        open_time = time.time()\n",
    "        \n",
    "        if idle_time_start:\n",
    "            idle_time_end = time.time()\n",
    "        \n",
    "        if idle_time_end - idle_time_start > 2:\n",
    "            morse += \"    \"\n",
    "        elif idle_time_end - idle_time_start > 1:\n",
    "            morse += \" \"\n",
    "\n",
    "        opened_hand = False\n",
    "        check_if_open = False\n",
    "        check_if_close = True\n",
    "        is_open = True\n",
    "    elif not is_open:\n",
    "        is_open = True\n",
    "        idle_time_start = close_time = time.time()\n",
    "        timeopen = close_time - open_time\n",
    "\n",
    "        if timeopen < 0.7:\n",
    "            morse += \".\"\n",
    "        else :\n",
    "            morse += \"-\"\n",
    "        check_if_open = True\n",
    "\n",
    "\n",
    "    cv2.imshow(\"Video\", frame)\n",
    "    k = cv2.waitKey(1)\n",
    "    if k == 27:\n",
    "        break\n",
    "\n",
    "\n",
    "cap.release()\n",
    "cv2.destroyAllWindows()\n",
    "print(morse)\n",
    "word = \"\"\n",
    "for i in morse.split(\"    \"):\n",
    "    letter = \"\"\n",
    "    for j in i.split(\" \"):\n",
    "        letter += morse_to_text[j]\n",
    "    word += letter\n",
    "print(word)"
   ]
  },
  {
   "cell_type": "code",
   "execution_count": 82,
   "metadata": {},
   "outputs": [
    {
     "data": {
      "text/plain": [
       "<pygame.mixer.Channel at 0x165cd01ca70>"
      ]
     },
     "execution_count": 82,
     "metadata": {},
     "output_type": "execute_result"
    }
   ],
   "source": [
    "text = \"Hello World\"\n",
    "pygame.init()\n",
    "tts = gTTS(text= word, lang= language, slow= False)\n",
    "tts.save(\"Hw.mp3\")\n",
    "pygame.mixer.Sound('Hw.mp3').play()"
   ]
  }
 ],
 "metadata": {
  "kernelspec": {
   "display_name": "Python 3",
   "language": "python",
   "name": "python3"
  },
  "language_info": {
   "codemirror_mode": {
    "name": "ipython",
    "version": 3
   },
   "file_extension": ".py",
   "mimetype": "text/x-python",
   "name": "python",
   "nbconvert_exporter": "python",
   "pygments_lexer": "ipython3",
   "version": "3.11.6"
  }
 },
 "nbformat": 4,
 "nbformat_minor": 2
}
