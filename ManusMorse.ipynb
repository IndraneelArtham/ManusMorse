{
 "cells": [
  {
   "cell_type": "code",
   "execution_count": 82,
   "metadata": {},
   "outputs": [],
   "source": [
    "import cv2\n",
    "import mediapipe as mp\n",
    "import time\n",
    "from collections import namedtuple"
   ]
  },
  {
   "cell_type": "code",
   "execution_count": 83,
   "metadata": {},
   "outputs": [],
   "source": [
    "Point = namedtuple('Point', 'x y')"
   ]
  },
  {
   "cell_type": "code",
   "execution_count": 84,
   "metadata": {},
   "outputs": [],
   "source": [
    "class Line:\n",
    "    def __init__(self, P, Q):\n",
    "        self.a = P.y - Q.y\n",
    "        self.b = Q.x - P.x\n",
    "        self.c = P.x*(Q.y - P.y) - P.y*(Q.x - P.x)\n",
    "\n",
    "    def substitute(self, R):\n",
    "        return self.a*R.x + self.b*R.y + self.c"
   ]
  },
  {
   "cell_type": "code",
   "execution_count": 85,
   "metadata": {},
   "outputs": [],
   "source": [
    "opened = False\n",
    "opentime = 0\n",
    "closetime = 0\n",
    "checkopen = True\n",
    "checkclose = False\n",
    "open = True\n",
    "status = \"CLOSED\""
   ]
  },
  {
   "cell_type": "code",
   "execution_count": 86,
   "metadata": {},
   "outputs": [
    {
     "name": "stdout",
     "output_type": "stream",
     "text": [
      ".._.\n"
     ]
    }
   ],
   "source": [
    "cap = cv2.VideoCapture(cv2.CAP_DSHOW)\n",
    "mpHands = mp.solutions.hands\n",
    "hands = mpHands.Hands()\n",
    "mpDraw = mp.solutions.drawing_utils\n",
    "pTime = 0\n",
    "cTime = 0\n",
    "morse = \"\"\n",
    "\n",
    "while True:\n",
    "    ret, frame = cap.read()\n",
    "    h, w, c = frame.shape\n",
    "    rgb_frame = cv2.cvtColor(frame, cv2.COLOR_BGR2RGB)\n",
    "    results = hands.process(rgb_frame)\n",
    "    \n",
    "    if results.multi_hand_landmarks:\n",
    "        for handLms in results.multi_hand_landmarks:\n",
    "\n",
    "            A = Point(int(handLms.landmark[0].x*w), int(handLms.landmark[0].y*h))\n",
    "            B = Point(int(handLms.landmark[5].x*w), int(handLms.landmark[5].y*h))\n",
    "            C = Point(int(handLms.landmark[17].x*w), int(handLms.landmark[17].y*h))\n",
    "            P = Point(int(handLms.landmark[12].x*w), int(handLms.landmark[12].y*h))\n",
    "\n",
    "            l1 = Line(A, B)\n",
    "            l2 = Line(B, C)\n",
    "            l3 = Line(C, A)\n",
    "\n",
    "            if l1.substitute(P) > 0 and l2.substitute(P) > 0 and l3.substitute(P) > 0:\n",
    "                status = \"CLOSED\"\n",
    "            else:\n",
    "                status = \"OPEN\"\n",
    "            mpDraw.draw_landmarks(frame, handLms, mpHands.HAND_CONNECTIONS)\n",
    "            cv2.putText(frame, status, (10, 300), cv2.FONT_HERSHEY_COMPLEX, 1, (0, 0, 255), 3, 1)\n",
    "\n",
    "    cTime = time.time()\n",
    "    fps = 1/(cTime - pTime)\n",
    "    pTime = cTime\n",
    "    cv2.putText(frame, str(int(fps)), (10, 30), cv2.FONT_HERSHEY_PLAIN, 1.7, (0, 0, 255), 3, 1)\n",
    "\n",
    "    if status == \"OPEN\" and checkopen:\n",
    "        opened = True\n",
    "    elif status == \"CLOSED\" and checkclose:\n",
    "        open = False\n",
    "        opened = False\n",
    "        checkclose = False\n",
    "\n",
    "    if opened:\n",
    "        opentime = time.time()\n",
    "        opened = False\n",
    "        checkopen = False\n",
    "        checkclose = True\n",
    "        open = True\n",
    "    elif not open:\n",
    "        open = True\n",
    "        closetime = time.time()\n",
    "        timeopen = closetime - opentime\n",
    "\n",
    "        if timeopen < 0.7:\n",
    "            morse += \".\"\n",
    "        else :\n",
    "            morse += \"_\"\n",
    "        checkopen = True\n",
    "\n",
    "\n",
    "    cv2.imshow(\"Video\", frame)\n",
    "    k = cv2.waitKey(1)\n",
    "    if k == 27:\n",
    "        break\n",
    "\n",
    "cap.release()\n",
    "cv2.destroyAllWindows()\n",
    "print(morse)"
   ]
  },
  {
   "cell_type": "code",
   "execution_count": null,
   "metadata": {},
   "outputs": [],
   "source": []
  }
 ],
 "metadata": {
  "kernelspec": {
   "display_name": "Python 3",
   "language": "python",
   "name": "python3"
  },
  "language_info": {
   "codemirror_mode": {
    "name": "ipython",
    "version": 3
   },
   "file_extension": ".py",
   "mimetype": "text/x-python",
   "name": "python",
   "nbconvert_exporter": "python",
   "pygments_lexer": "ipython3",
   "version": "3.11.6"
  }
 },
 "nbformat": 4,
 "nbformat_minor": 2
}
